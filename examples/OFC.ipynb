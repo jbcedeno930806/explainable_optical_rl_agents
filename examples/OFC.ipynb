{
 "cells": [
  {
   "cell_type": "code",
   "execution_count": 1,
   "metadata": {},
   "outputs": [
    {
     "name": "stderr",
     "output_type": "stream",
     "text": [
      "/Users/acid/Documents/Projects/explainable/.venv_explainable/lib/python3.10/site-packages/tqdm/auto.py:22: TqdmWarning: IProgress not found. Please update jupyter and ipywidgets. See https://ipywidgets.readthedocs.io/en/stable/user_install.html\n",
      "  from .autonotebook import tqdm as notebook_tqdm\n"
     ]
    },
    {
     "data": {
      "text/plain": [
       "'1.4.1a0'"
      ]
     },
     "execution_count": 1,
     "metadata": {},
     "output_type": "execute_result"
    }
   ],
   "source": [
    "import os\n",
    "import numpy as np\n",
    "import pickle\n",
    "import gym\n",
    "import pandas as pd\n",
    "import stable_baselines3\n",
    "from stable_baselines3.common.callbacks import BaseCallback\n",
    "from stable_baselines3.common.results_plotter import load_results, ts2xy\n",
    "from stable_baselines3 import PPO\n",
    "from stable_baselines3.ppo.policies import MlpPolicy as MLP_PPO\n",
    "from stable_baselines3 import DQN\n",
    "from stable_baselines3.dqn.policies import MlpPolicy as MLP_DQN\n",
    "from sb3_contrib import TRPO\n",
    "from sb3_contrib.trpo import MlpPolicy as MLP_TRPO\n",
    "from stable_baselines3.common.monitor import Monitor\n",
    "from stable_baselines3.common import results_plotter\n",
    "import matplotlib.pyplot as plt\n",
    "import seaborn as sns\n",
    "from explainable.utils import evaluate_policy\n",
    "from explainable.envs.deeprmsa_env import shortest_available_path_first_fit\n",
    "from explainable.dagger import DAgger_Policy\n",
    "stable_baselines3.__version__ # printing out stable_baselines version used"
   ]
  },
  {
   "cell_type": "code",
   "execution_count": 2,
   "metadata": {},
   "outputs": [],
   "source": [
    "def get_node_request_probabilities(top_name):\n",
    "    node_request_probabilities = np.array([])\n",
    "    if top_name == 'arpanet':\n",
    "        # ---------------------- ARPANET ----------------------\n",
    "        node_request_probabilities = np.array(\n",
    "            [0.10131117, 0.12078696, 0.06144304, 0.00394418, 0.06218475,\n",
    "            0.04044608, 0.09256297, 0.02113283, 0.02084576, 0.07330581,\n",
    "            0.04822402, 0.01407012, 0.0251201 , 0.04523283, 0.12847282,\n",
    "            0.01805554, 0.01488939, 0.03013041, 0.06110418, 0.01673704]\n",
    "        )\n",
    "    elif top_name == 'eon':\n",
    "        # ---------------------- EON ----------------------\n",
    "        node_request_probabilities = np.array(\n",
    "            [0.13956028, 0.02775406, 0.1583229 , 0.01276534, 0.06687379,\n",
    "            0.02519223, 0.02306825, 0.01166695, 0.0594671 , 0.00071904,\n",
    "            0.06957169, 0.13642354, 0.03778149, 0.05543918, 0.07873654,\n",
    "            0.02076745, 0.00419003, 0.02320005, 0.01052078, 0.03797931]\n",
    "        )\n",
    "    elif top_name == 'eurocore':\n",
    "        # ---------------------- EUROCORE ----------------------\n",
    "        node_request_probabilities = np.array(\n",
    "            [0.01711661, 0.05418066, 0.11466408, 0.37467221, 0.01244822,\n",
    "            0.00672383, 0.00170215, 0.14903192, 0.20510173, 0.02759766,\n",
    "            0.03676094]\n",
    "        )\n",
    "    elif top_name == 'italiana':\n",
    "        # ---------------------- ITALIANA ----------------------\n",
    "        node_request_probabilities = np.array(\n",
    "            [0.06646663, 0.28975685, 0.04804817, 0.12453275, 0.09512295,\n",
    "            0.05196806, 0.02895454, 0.0071567 , 0.02332887, 0.05678903,\n",
    "            0.0026715 , 0.00254033, 0.0123507 , 0.00230415, 0.02801925,\n",
    "            0.00800734, 0.01208697, 0.02598813, 0.06745542, 0.02508004,\n",
    "            0.0213716]\n",
    "        )\n",
    "    elif top_name == 'nsfnet':\n",
    "        # ---------------------- NSFNET ----------------------\n",
    "        node_request_probabilities = np.array([0.01801802, 0.04004004, 0.05305305, 0.01901902, 0.04504505,\n",
    "            0.02402402, 0.06706707, 0.08908909, 0.13813814, 0.12212212,\n",
    "            0.07607608, 0.12012012, 0.01901902, 0.16916917])\n",
    "    elif top_name == 'uknet':\n",
    "        # ---------------------- UKNET ----------------------\n",
    "        node_request_probabilities = np.array(\n",
    "            [0.06646663, 0.28975685, 0.04804817, 0.12453275, 0.09512295,\n",
    "            0.05196806, 0.02895454, 0.0071567 , 0.02332887, 0.05678903,\n",
    "            0.0026715 , 0.00254033, 0.0123507 , 0.00230415, 0.02801925,\n",
    "            0.00800734, 0.01208697, 0.02598813, 0.06745542, 0.02508004,\n",
    "            0.0213716]\n",
    "        )\n",
    "    else:\n",
    "        # ---------------------- USNET ----------------------\n",
    "        node_request_probabilities = np.array(\n",
    "            [1.23807304e-02, 2.92335629e-02, 2.62436887e-06, 8.26014201e-03,\n",
    "            3.64143708e-03, 2.22290607e-03, 4.72909952e-03, 9.72772742e-03,\n",
    "            1.15971163e-02, 1.77577532e-02, 1.24663926e-02, 2.65205341e-02,\n",
    "            5.24785875e-03, 4.82902294e-02, 6.37146993e-04, 2.54697119e-02,\n",
    "            1.23918630e-02, 1.87683811e-02, 3.47080980e-03, 5.06542659e-03,\n",
    "            3.70125617e-02, 7.91621028e-02, 8.62783971e-03, 2.70442037e-02,\n",
    "            4.79671702e-02, 5.16253403e-02, 2.03925432e-03, 9.14041312e-04,\n",
    "            4.27046339e-03, 4.82949487e-02, 2.37528831e-03, 1.25420925e-02,\n",
    "            7.26742589e-02, 1.74783004e-02, 2.70110059e-02, 8.69783866e-03,\n",
    "            2.66141267e-02, 4.12887779e-02, 4.23491085e-04, 3.18204224e-02,\n",
    "            1.03186416e-01, 3.16394394e-02, 7.55135878e-03, 3.57289387e-02,\n",
    "            2.49978391e-03, 1.36290810e-02]\n",
    "        )\n",
    "    return node_request_probabilities"
   ]
  },
  {
   "cell_type": "code",
   "execution_count": 3,
   "metadata": {},
   "outputs": [],
   "source": [
    "def get_EnvExpert(top_name, k, alg_name, base_log_dir='./tmp/', only_spectrum_obs = False,\n",
    "                    mean_service_inter_arrival_time=0.1):\n",
    "    topology_dir = '/topologies/demo/' +  top_name +f'_{k}.h5'\n",
    "    with open(f'..{topology_dir}', 'rb') as f:\n",
    "        topology = pickle.load(f)\n",
    "    assert k <= topology.graph['k_paths']\n",
    "    node_request_probabilities = get_node_request_probabilities(top_name)\n",
    "    env_args = dict(topology=topology, seed=10, \n",
    "                    k_paths=k,\n",
    "                    allow_rejection=False, # the agent cannot proactively reject a request\n",
    "                    j=1, # consider only the first suitable spectrum block for the spectrum assignment\n",
    "                    mean_service_holding_time=7.5, # value is not set as in the paper to achieve comparable reward values\n",
    "                    mean_service_inter_arrival_time=mean_service_inter_arrival_time,\n",
    "                    episode_length=50, node_request_probabilities=node_request_probabilities,\n",
    "                    only_spectrum_obs=only_spectrum_obs)\n",
    "    \n",
    "    ### Creating the monitors and agent\n",
    "    # Create log dir\n",
    "    log_dir = base_log_dir + top_name + f'_{k}/'\n",
    "    env = gym.make('DeepRMSA-v0', **env_args)\n",
    "    \n",
    "    # logs will be saved in log_dir/training.monitor.csv\n",
    "    # in this case, on top of the usual monitored things, we also monitor service and bit rate blocking rates\n",
    "    env = Monitor(env, log_dir, info_keywords=tuple(env.eval_keywords))\n",
    "\n",
    "    # if alg_name == 'PPO':\n",
    "    #     expert = PPO.load(log_dir+'best_model')\n",
    "    # elif alg_name == 'DQN':\n",
    "    #     expert = DQN.load(log_dir+'best_model')\n",
    "    # else: # TRPO\n",
    "    #     expert = TRPO.load(log_dir+'best_model')\n",
    "    expert = PPO.load(log_dir +'best_model')\n",
    "        \n",
    "    return env, expert"
   ]
  },
  {
   "cell_type": "code",
   "execution_count": 10,
   "metadata": {},
   "outputs": [],
   "source": [
    "alg_name = 'PPO'\n",
    "top_name = 'nsfnet'\n",
    "k_path = 3\n",
    "traffics = [50, 60, 70, 80, 90, 100, 110, 120, 130, 140, 150, 160, 170]\n",
    "inter_ats = [round(7.5/traffic, 4) for traffic in traffics]\n",
    "n_eval_episodes = 500\n",
    "use_heuristic_trainer = False"
   ]
  },
  {
   "cell_type": "markdown",
   "metadata": {},
   "source": [
    "#### Training the DT with K-KSPFF heuristic"
   ]
  },
  {
   "cell_type": "code",
   "execution_count": 6,
   "metadata": {},
   "outputs": [],
   "source": [
    "from sklearn import tree\n",
    "from explainable.dagger import DAgger\n",
    "from explainable.utils import collect_transitions\n",
    "\n",
    "env, _ = get_EnvExpert(top_name, k_path, alg_name, mean_service_inter_arrival_time=0.1)\n",
    "heuristic_policy=shortest_available_path_first_fit(env, k_path)\n",
    "\n",
    "### Collecting Expert Demostrations:\n",
    "demostrations = collect_transitions(heuristic_policy, env, 20000)\n",
    "\n",
    "# Decision Trees Dagger Trainer:\n",
    "tree_regr = tree.DecisionTreeClassifier(max_depth=8) # depth is set only for visualization purposes\n",
    "tree_dagger = DAgger(heuristic_policy, tree_regr, env, demostrations.copy())\n",
    "\n",
    "# Training the student policy:\n",
    "tree_dagger.train(heuristic_policy, env)\n",
    "\n",
    "# saving the student policy:\n",
    "save_dir = \"./tmp_students/\" + f'nsfnet_heuristic_{k_path}/'\n",
    "tree_dagger.policy.save(save_dir)\n"
   ]
  },
  {
   "cell_type": "markdown",
   "metadata": {},
   "source": [
    "### Training a DT with RL agent"
   ]
  },
  {
   "cell_type": "code",
   "execution_count": 5,
   "metadata": {},
   "outputs": [],
   "source": [
    "from sklearn import tree\n",
    "from explainable.dagger import DAgger\n",
    "from explainable.utils import collect_transitions\n",
    "\n",
    "env, expert = get_EnvExpert(top_name, k_path, alg_name, mean_service_inter_arrival_time=0.1)\n",
    "\n",
    "### Collecting Expert Demostrations:\n",
    "demostrations = collect_transitions(expert, env, 20000)\n",
    "\n",
    "# Decision Trees Dagger Trainer:\n",
    "tree_regr = tree.DecisionTreeClassifier(max_depth=8) # depth is set only for visualization purposes\n",
    "tree_dagger = DAgger(expert, tree_regr, env, demostrations.copy())\n",
    "\n",
    "# Training the student policy:\n",
    "tree_dagger.train(expert, env)\n",
    "\n",
    "# saving the student policy:\n",
    "save_dir = \"./tmp_students/\" + f'nsfnet_{k_path}/'\n",
    "tree_dagger.policy.save(save_dir)\n"
   ]
  },
  {
   "cell_type": "markdown",
   "metadata": {},
   "source": [
    "#### Evaluating results"
   ]
  },
  {
   "cell_type": "code",
   "execution_count": null,
   "metadata": {},
   "outputs": [],
   "source": [
    "rewards = {\n",
    "    '3-SPFF':[],\n",
    "    # 'SPFF':[],\n",
    "    'Student':[],\n",
    "    # 'Agent':[]       \n",
    "} # shape = {}\n",
    "blocking_rates = {\n",
    "    '3-SPFF':[],\n",
    "    # 'SPFF':[],\n",
    "    'Student':[],\n",
    "    # 'Agent':[]   \n",
    "} \n",
    "\n",
    "\n",
    "for iat in inter_ats:  \n",
    "    for key in rewards:\n",
    "        env, expert = get_EnvExpert(top_name, k_path, alg_name, mean_service_inter_arrival_time=iat)\n",
    "        if key == 'Student':\n",
    "            if not use_heuristic_trainer:\n",
    "                policy = DAgger_Policy.load(f'./tmp_students/nsfnet_{k_path}/model.h5',env.observation_space,env.action_space)\n",
    "            else:\n",
    "                policy = DAgger_Policy.load(f'./tmp_students/nsfnet_heuristic_{k_path}/model.h5',env.observation_space,env.action_space)\n",
    "            mean_reward, _, df = evaluate_policy(env, n_eval_episodes, model = policy, return_dataframe=True)\n",
    "        elif key == 'Agent':\n",
    "                mean_reward, _, df = evaluate_policy(env, n_eval_episodes, model = expert, return_dataframe=True)\n",
    "        elif key == 'SPFF':\n",
    "            mean_reward, _, df = evaluate_policy(env, n_eval_episodes, heuristic_policy=shortest_available_path_first_fit(env,1), return_dataframe=True)\n",
    "        elif key=='5-SPFF':\n",
    "                mean_reward, _, df = evaluate_policy(env, n_eval_episodes, heuristic_policy=shortest_available_path_first_fit(env,5), return_dataframe=True)\n",
    "        else:\n",
    "            mean_reward, _, df = evaluate_policy(env, n_eval_episodes, heuristic_policy=shortest_available_path_first_fit(env,3), return_dataframe=True)\n",
    "\n",
    "        rewards[key].append(mean_reward)\n",
    "        blocking_rates[key].append(df['service_blocking_rate'][len(df['service_blocking_rate'])-1])\n",
    "        \n",
    "        print(f'Done for {key} with expert mean_reward = {mean_reward}')\n"
   ]
  },
  {
   "cell_type": "markdown",
   "metadata": {},
   "source": [
    "#### Saving results:"
   ]
  },
  {
   "cell_type": "code",
   "execution_count": 16,
   "metadata": {},
   "outputs": [],
   "source": [
    "os.makedirs('./plots/', exist_ok=True)\n",
    "\n",
    "ad_path = ''\n",
    "if use_heuristic_trainer:\n",
    "    ad_path = 'heuristic_'\n",
    "df_r = pd.DataFrame(rewards)\n",
    "df_r.to_csv(f'./plots/rewards_{ad_path}{k_path}.csv')\n",
    "df_r = pd.DataFrame(blocking_rates)\n",
    "df_r.to_csv(f'./plots/blocking_rates_{ad_path}{k_path}.csv')"
   ]
  },
  {
   "cell_type": "markdown",
   "metadata": {},
   "source": [
    "### Plotting results"
   ]
  },
  {
   "cell_type": "markdown",
   "metadata": {},
   "source": [
    "#### Blocking rate"
   ]
  },
  {
   "cell_type": "code",
   "execution_count": null,
   "metadata": {},
   "outputs": [],
   "source": [
    "base_output_dir = './plots/blocking_rate/'\n",
    "colors = sns.color_palette(\"colorblind\")\n",
    "\n",
    "output_dir = base_output_dir\n",
    "os.makedirs(output_dir, exist_ok=True)\n",
    "plt.figure()\n",
    "\n",
    "for i, key in enumerate(rewards):\n",
    "    plt.plot(traffics, blocking_rates[key], label=key, color=colors[i])\n",
    "plt.xlabel(\"traffic\")\n",
    "plt.ylabel(\"blocking rate\")\n",
    "plt.legend()\n",
    "plt.yscale('log')\n",
    "plt.yticks(ticks=[5*10e-4, 10e-3,5*10e-3,10e-2,5*10e-2],labels=[ 5*10e-4, 10e-3,5*10e-3,10e-2,5*10e-2])\n",
    "# plt.yticks(ticks=[x/100 for x in range(1, 25,5)],labels=[x/100 for x in range(1, 25,5)])\n",
    "plt.savefig(output_dir + f'{top_name}_{k_path}.eps')\n",
    "plt.show()"
   ]
  },
  {
   "cell_type": "markdown",
   "metadata": {},
   "source": [
    "#### Reward"
   ]
  },
  {
   "cell_type": "code",
   "execution_count": 18,
   "metadata": {},
   "outputs": [
    {
     "data": {
      "image/png": "[encoded data removed]",
      "text/plain": [
       "<Figure size 432x288 with 1 Axes>"
      ]
     },
     "metadata": {
      "needs_background": "light"
     },
     "output_type": "display_data"
    }
   ],
   "source": [
    "base_output_dir = './plots/rewards/'\n",
    "\n",
    "output_dir = base_output_dir\n",
    "os.makedirs(output_dir, exist_ok=True)\n",
    "plt.figure()\n",
    "\n",
    "for i, key in enumerate(rewards):\n",
    "    plt.plot(traffics, rewards[key], label=key, color=colors[i])\n",
    "plt.xlabel(\"traffic\")\n",
    "plt.ylabel(\"reward\")\n",
    "plt.legend()\n",
    "plt.savefig(output_dir + f'{top_name}_{k_path}.png')\n",
    "plt.show()"
   ]
  },
  {
   "cell_type": "markdown",
   "metadata": {},
   "source": [
    "#### Features importance for the student trained with agent"
   ]
  },
  {
   "cell_type": "code",
   "execution_count": 6,
   "metadata": {},
   "outputs": [
    {
     "data": {
      "image/png": "[encoded data removed]",
      "text/plain": [
       "<Figure size 432x288 with 1 Axes>"
      ]
     },
     "metadata": {
      "needs_background": "light"
     },
     "output_type": "display_data"
    }
   ],
   "source": [
    "base_output_dir_features = './plots/features_importance/'\n",
    "\n",
    "# loading saved DT classifier:\n",
    "env, expert = get_EnvExpert(top_name, k_path, alg_name, mean_service_inter_arrival_time=0.1)\n",
    "policy = DAgger_Policy.load(f'./tmp_students/nsfnet_{k_path}/model.h5',env.observation_space,env.action_space)\n",
    "\n",
    "output_dir = base_output_dir_features\n",
    "os.makedirs(output_dir, exist_ok=True)\n",
    "\n",
    "importances_sk = policy.student.feature_importances_\n",
    "importance = pd.DataFrame(importances_sk)\n",
    "importance.to_csv(f'./plots/features_importance_{k_path}.csv')\n",
    "\n",
    "plt.figure()\n",
    "plt.bar([x for x in range(len(importances_sk))], importances_sk)\n",
    "plt.xlabel(\"feature\")\n",
    "plt.ylabel(\"importance\")\n",
    "plt.title(f\"Features importance {top_name}\")\n",
    "plt.savefig(output_dir + f'{top_name}_{k_path}.png')\n",
    "plt.show()"
   ]
  },
  {
   "cell_type": "markdown",
   "metadata": {},
   "source": [
    "#### Features importance for the student trained with heuristic"
   ]
  },
  {
   "cell_type": "code",
   "execution_count": 7,
   "metadata": {},
   "outputs": [
    {
     "data": {
      "image/png": "[encoded data removed]",
      "text/plain": [
       "<Figure size 432x288 with 1 Axes>"
      ]
     },
     "metadata": {
      "needs_background": "light"
     },
     "output_type": "display_data"
    }
   ],
   "source": [
    "# loading saved DT classifier:\n",
    "env, expert = get_EnvExpert(top_name, k_path, alg_name, mean_service_inter_arrival_time=0.1)\n",
    "policy = DAgger_Policy.load(f'./tmp_students/nsfnet_heuristic_{k_path}/model.h5',env.observation_space,env.action_space)\n",
    "\n",
    "output_dir = base_output_dir_features\n",
    "os.makedirs(output_dir, exist_ok=True)\n",
    "\n",
    "importances_sk = policy.student.feature_importances_\n",
    "importance = pd.DataFrame(importances_sk)\n",
    "importance.to_csv(f'./plots/features_importance_heuristic_{k_path}.csv')\n",
    "\n",
    "plt.figure()\n",
    "plt.bar([x for x in range(len(importances_sk))], importances_sk)\n",
    "plt.xlabel(\"feature\")\n",
    "plt.ylabel(\"importance\")\n",
    "plt.title(f\"Features importance {top_name}\")\n",
    "plt.savefig(output_dir + f'{top_name}_heuristic_{k_path}.png')\n",
    "plt.show()"
   ]
  },
  {
   "cell_type": "markdown",
   "metadata": {},
   "source": [
    "#### Decision tree structure"
   ]
  },
  {
   "cell_type": "code",
   "execution_count": 17,
   "metadata": {},
   "outputs": [
    {
     "data": {
      "image/svg+xml": "<?xml version=\"1.0\" encoding=\"UTF-8\" standalone=\"no\"?>\n<!DOCTYPE svg PUBLIC \"-//W3C//DTD SVG 1.1//EN\"\n \"http://www.w3.org/Graphics/SVG/1.1/DTD/svg11.dtd\">\n<!-- Generated by graphviz version 6.0.2 (20221011.1828)\n -->\n<!-- Title: Tree Pages: 1 -->\n<svg width=\"439pt\" height=\"373pt\"\n viewBox=\"0.00 0.00 439.00 373.00\" xmlns=\"http://www.w3.org/2000/svg\" xmlns:xlink=\"http://www.w3.org/1999/xlink\">\n<g id=\"graph0\" class=\"graph\" transform=\"scale(1 1) rotate(0) translate(4 369)\">\n<title>Tree</title>\n<polygon fill=\"white\" stroke=\"none\" points=\"-4,4 -4,-369 435,-369 435,4 -4,4\"/>\n<!-- 0 -->\n<g id=\"node1\" class=\"node\">\n<title>0</title>\n<polygon fill=\"#ea995f\" stroke=\"black\" points=\"368.5,-365 146.5,-365 146.5,-297 368.5,-297 368.5,-365\"/>\n<text text-anchor=\"middle\" x=\"257.5\" y=\"-349.8\" font-family=\"Helvetica,sans-Serif\" font-size=\"14.00\">X[30] &lt;= &#45;0.875</text>\n<text text-anchor=\"middle\" x=\"257.5\" y=\"-334.8\" font-family=\"Helvetica,sans-Serif\" font-size=\"14.00\">gini = 0.306</text>\n<text text-anchor=\"middle\" x=\"257.5\" y=\"-319.8\" font-family=\"Helvetica,sans-Serif\" font-size=\"14.00\">samples = 120000</text>\n<text text-anchor=\"middle\" x=\"257.5\" y=\"-304.8\" font-family=\"Helvetica,sans-Serif\" font-size=\"14.00\">value = [99106, 9781, 3192, 7921]</text>\n</g>\n<!-- 1 -->\n<g id=\"node2\" class=\"node\">\n<title>1</title>\n<polygon fill=\"#e5fbe3\" stroke=\"black\" points=\"257.5,-261 65.5,-261 65.5,-193 257.5,-193 257.5,-261\"/>\n<text text-anchor=\"middle\" x=\"161.5\" y=\"-245.8\" font-family=\"Helvetica,sans-Serif\" font-size=\"14.00\">X[34] &lt;= 0.97</text>\n<text text-anchor=\"middle\" x=\"161.5\" y=\"-230.8\" font-family=\"Helvetica,sans-Serif\" font-size=\"14.00\">gini = 0.614</text>\n<text text-anchor=\"middle\" x=\"161.5\" y=\"-215.8\" font-family=\"Helvetica,sans-Serif\" font-size=\"14.00\">samples = 20894</text>\n<text text-anchor=\"middle\" x=\"161.5\" y=\"-200.8\" font-family=\"Helvetica,sans-Serif\" font-size=\"14.00\">value = [0, 9781, 3192, 7921]</text>\n</g>\n<!-- 0&#45;&gt;1 -->\n<g id=\"edge1\" class=\"edge\">\n<title>0&#45;&gt;1</title>\n<path fill=\"none\" stroke=\"black\" d=\"M226.33,-296.88C217.86,-287.89 208.6,-278.04 199.79,-268.68\"/>\n<polygon fill=\"black\" stroke=\"black\" points=\"202.24,-266.18 192.84,-261.3 197.15,-270.98 202.24,-266.18\"/>\n<text text-anchor=\"middle\" x=\"192.08\" y=\"-282.59\" font-family=\"Helvetica,sans-Serif\" font-size=\"14.00\">True</text>\n</g>\n<!-- 6 -->\n<g id=\"node7\" class=\"node\">\n<title>6</title>\n<polygon fill=\"#e58139\" stroke=\"black\" points=\"431,-253.5 276,-253.5 276,-200.5 431,-200.5 431,-253.5\"/>\n<text text-anchor=\"middle\" x=\"353.5\" y=\"-238.3\" font-family=\"Helvetica,sans-Serif\" font-size=\"14.00\">gini = 0.0</text>\n<text text-anchor=\"middle\" x=\"353.5\" y=\"-223.3\" font-family=\"Helvetica,sans-Serif\" font-size=\"14.00\">samples = 99106</text>\n<text text-anchor=\"middle\" x=\"353.5\" y=\"-208.3\" font-family=\"Helvetica,sans-Serif\" font-size=\"14.00\">value = [99106, 0, 0, 0]</text>\n</g>\n<!-- 0&#45;&gt;6 -->\n<g id=\"edge6\" class=\"edge\">\n<title>0&#45;&gt;6</title>\n<path fill=\"none\" stroke=\"black\" d=\"M288.67,-296.88C299.54,-285.34 311.72,-272.39 322.57,-260.86\"/>\n<polygon fill=\"black\" stroke=\"black\" points=\"325.18,-263.2 329.48,-253.52 320.08,-258.4 325.18,-263.2\"/>\n<text text-anchor=\"middle\" x=\"330.24\" y=\"-274.81\" font-family=\"Helvetica,sans-Serif\" font-size=\"14.00\">False</text>\n</g>\n<!-- 2 -->\n<g id=\"node3\" class=\"node\">\n<title>2</title>\n<polygon fill=\"#47e539\" stroke=\"black\" points=\"147,-149.5 0,-149.5 0,-96.5 147,-96.5 147,-149.5\"/>\n<text text-anchor=\"middle\" x=\"73.5\" y=\"-134.3\" font-family=\"Helvetica,sans-Serif\" font-size=\"14.00\">gini = 0.0</text>\n<text text-anchor=\"middle\" x=\"73.5\" y=\"-119.3\" font-family=\"Helvetica,sans-Serif\" font-size=\"14.00\">samples = 9781</text>\n<text text-anchor=\"middle\" x=\"73.5\" y=\"-104.3\" font-family=\"Helvetica,sans-Serif\" font-size=\"14.00\">value = [0, 9781, 0, 0]</text>\n</g>\n<!-- 1&#45;&gt;2 -->\n<g id=\"edge2\" class=\"edge\">\n<title>1&#45;&gt;2</title>\n<path fill=\"none\" stroke=\"black\" d=\"M132.93,-192.88C123.06,-181.45 112.01,-168.63 102.13,-157.19\"/>\n<polygon fill=\"black\" stroke=\"black\" points=\"104.7,-154.81 95.52,-149.52 99.4,-159.38 104.7,-154.81\"/>\n</g>\n<!-- 3 -->\n<g id=\"node4\" class=\"node\">\n<title>3</title>\n<polygon fill=\"#e789ef\" stroke=\"black\" points=\"335.5,-157 165.5,-157 165.5,-89 335.5,-89 335.5,-157\"/>\n<text text-anchor=\"middle\" x=\"250.5\" y=\"-141.8\" font-family=\"Helvetica,sans-Serif\" font-size=\"14.00\">X[39] &lt;= 0.96</text>\n<text text-anchor=\"middle\" x=\"250.5\" y=\"-126.8\" font-family=\"Helvetica,sans-Serif\" font-size=\"14.00\">gini = 0.409</text>\n<text text-anchor=\"middle\" x=\"250.5\" y=\"-111.8\" font-family=\"Helvetica,sans-Serif\" font-size=\"14.00\">samples = 11113</text>\n<text text-anchor=\"middle\" x=\"250.5\" y=\"-96.8\" font-family=\"Helvetica,sans-Serif\" font-size=\"14.00\">value = [0, 0, 3192, 7921]</text>\n</g>\n<!-- 1&#45;&gt;3 -->\n<g id=\"edge3\" class=\"edge\">\n<title>1&#45;&gt;3</title>\n<path fill=\"none\" stroke=\"black\" d=\"M190.4,-192.88C198.17,-183.98 206.67,-174.24 214.76,-164.96\"/>\n<polygon fill=\"black\" stroke=\"black\" points=\"217.51,-167.14 221.44,-157.3 212.23,-162.53 217.51,-167.14\"/>\n</g>\n<!-- 4 -->\n<g id=\"node5\" class=\"node\">\n<title>4</title>\n<polygon fill=\"#399de5\" stroke=\"black\" points=\"241,-53 94,-53 94,0 241,0 241,-53\"/>\n<text text-anchor=\"middle\" x=\"167.5\" y=\"-37.8\" font-family=\"Helvetica,sans-Serif\" font-size=\"14.00\">gini = 0.0</text>\n<text text-anchor=\"middle\" x=\"167.5\" y=\"-22.8\" font-family=\"Helvetica,sans-Serif\" font-size=\"14.00\">samples = 3192</text>\n<text text-anchor=\"middle\" x=\"167.5\" y=\"-7.8\" font-family=\"Helvetica,sans-Serif\" font-size=\"14.00\">value = [0, 0, 3192, 0]</text>\n</g>\n<!-- 3&#45;&gt;4 -->\n<g id=\"edge4\" class=\"edge\">\n<title>3&#45;&gt;4</title>\n<path fill=\"none\" stroke=\"black\" d=\"M221.47,-88.95C213.52,-79.89 204.89,-70.07 196.91,-60.99\"/>\n<polygon fill=\"black\" stroke=\"black\" points=\"199.33,-58.44 190.1,-53.24 194.07,-63.06 199.33,-58.44\"/>\n</g>\n<!-- 5 -->\n<g id=\"node6\" class=\"node\">\n<title>5</title>\n<polygon fill=\"#d739e5\" stroke=\"black\" points=\"406,-53 259,-53 259,0 406,0 406,-53\"/>\n<text text-anchor=\"middle\" x=\"332.5\" y=\"-37.8\" font-family=\"Helvetica,sans-Serif\" font-size=\"14.00\">gini = 0.0</text>\n<text text-anchor=\"middle\" x=\"332.5\" y=\"-22.8\" font-family=\"Helvetica,sans-Serif\" font-size=\"14.00\">samples = 7921</text>\n<text text-anchor=\"middle\" x=\"332.5\" y=\"-7.8\" font-family=\"Helvetica,sans-Serif\" font-size=\"14.00\">value = [0, 0, 0, 7921]</text>\n</g>\n<!-- 3&#45;&gt;5 -->\n<g id=\"edge5\" class=\"edge\">\n<title>3&#45;&gt;5</title>\n<path fill=\"none\" stroke=\"black\" d=\"M279.18,-88.95C287.04,-79.89 295.56,-70.07 303.44,-60.99\"/>\n<polygon fill=\"black\" stroke=\"black\" points=\"306.26,-63.08 310.17,-53.24 300.97,-58.5 306.26,-63.08\"/>\n</g>\n</g>\n</svg>\n",
      "text/plain": [
       "<graphviz.sources.Source at 0x154a1a350>"
      ]
     },
     "execution_count": 17,
     "metadata": {},
     "output_type": "execute_result"
    }
   ],
   "source": [
    "import graphviz\n",
    "from sklearn import tree\n",
    "dot_data = tree.export_graphviz(policy.student, out_file=None,\n",
    "                                filled=True)\n",
    "graphviz.Source(dot_data, format=\"png\", directory='./',filename='tree.pdf') "
   ]
  }
 ],
 "metadata": {
  "kernelspec": {
   "display_name": "Python 3.10.4 ('.venv_explainable': venv)",
   "language": "python",
   "name": "python3"
  },
  "language_info": {
   "codemirror_mode": {
    "name": "ipython",
    "version": 3
   },
   "file_extension": ".py",
   "mimetype": "text/x-python",
   "name": "python",
   "nbconvert_exporter": "python",
   "pygments_lexer": "ipython3",
   "version": "3.10.4"
  },
  "vscode": {
   "interpreter": {
    "hash": "85738635c78e4a7cd1f03905bfc0e59fb808e736b488f02ee4e2418032da2be0"
   }
  }
 },
 "nbformat": 4,
 "nbformat_minor": 4
}
